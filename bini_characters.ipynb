{
 "cells": [
  {
   "cell_type": "code",
   "execution_count": null,
   "id": "9f044591",
   "metadata": {},
   "outputs": [],
   "source": [
    "import pytesseract\n",
    "import unicodedata\n",
    "import unidecode\n"
   ]
  },
  {
   "cell_type": "markdown",
   "id": "1cfa1098",
   "metadata": {},
   "source": [
    "to deal with these special character translations you can get their greek counterparts and combinations from the [unicode websites](https://www.compart.com/en/unicode/combining/230), convert them to hex values and then do the combinations and store them like so:\n",
    "``` this = hex()"
   ]
  },
  {
   "cell_type": "code",
   "execution_count": null,
   "id": "d3621939",
   "metadata": {},
   "outputs": [
    {
     "name": "stdout",
     "output_type": "stream",
     "text": [
      "been given tone-marks of their own in noun-headings, but not in\n",
      "grammatical elements like (e)t-, (e)v-, etc., nor in sentences.\n",
      "\n",
      "The sign > has occasionally been used where a word had to be broken\n",
      "up at the end of a line, for purely technical reasons.\n",
      "\n",
      "ORDER AND Form OF ITEMS\n",
      "\n",
      "The letters follow one another in the following order: a, b, d, e, ¢, f,\n",
      "g, gb, x, h, i,k, kp, 1, m, n, nw, ny, 0, 9, p, r, rh, f, f, s, t, u, v, 6, w, x, y, z.\n",
      "\n",
      "In the case of words differing in tone only, the items with high tones\n",
      "are placed first, then those containing both high and low (or mid) tones,\n",
      "then the words with low tones only, and last those with rises or falls.\n",
      "\n",
      "Unnasalised vowels have no precedence over nasalised ones, except\n",
      "where the tones are the same.\n",
      "\n",
      "Nouns beginning with e-, i.e. an e- prefix which occurs mostly in a\n",
      "\n",
      "context and is often not pronounced when isolated, are found under the\n",
      "vowel e, but grammatical elements like (e)n-, (e)t-, etc. are entered\n",
      "under the appropriate consonant.\n",
      "Entirely different items with the same phonetic and tonal form are\n",
      "differentiated by means of numbers. Different meanings that may be\n",
      "explained as semantic developments of one word are marked with\n",
      "bracketed numbers within the same item. Different meanings brought\n",
      "about by the addition of a noun, for example, in the genitive or object-\n",
      "relationship are usually not numbered.\n",
      "\n",
      "In the case of verbs, the verbal combinations are given before the\n",
      "verb-noun combinations. In the verb-noun combinations the two ele-\n",
      "ments have been joined where they are followed by an object, or if\n",
      "there is no further object, e.g. in gb-ovo [ \"] to be jealous, ogb-ovote[ \"J\n",
      "she is jealous of me, but the two elements have been kept separate\n",
      "when an object is put between them, e.g. in gbe [°] avo[ '] to make\n",
      "somebody jealous, ogbe 6-5vo [|] it makes me jealous. The tones of\n",
      "the imperfect forms have been used in the headings and sub-headings,\n",
      "but in the case of verbal combinations, each verb has been given its\n",
      "independent tone, irrespective of tonal interrelations in actual speech.\n",
      "In sentences and other illustrative material, however, the author has\n",
      "tried to reproduce the actual intonation of his informant (nearly always\n",
      "H. G. Amadasu). |\n",
      "\n",
      "Inverted commas have been used for the following purposes:\n",
      "\n",
      "(1) In single words or short expressions occurring in the English\n",
      "equivalent aiter the heading, they denote that the word or expression\n",
      "in question is “coastal English’’, i.e. either Pidgin-English or a peculiar\n",
      "usage of English in the speech of the informant.\n",
      "\n",
      "(2) In the translations of sentences, idioms, and explanatory notes,\n",
      "inverted commas denote either a literal translation which is not good\n",
      "English (and which may be followed by a free translation), or a quotation.\n",
      "\n",
      "xV\n",
      "\n"
     ]
    }
   ],
   "source": [
    "text2 = pytesseract.image_to_string(\"/home/kinged/codes/dala/group_a/bini_pdf_as_img/test.png0001-015.png\", lang=\"eng+lat+gre\")\n",
    "print(text2)"
   ]
  },
  {
   "cell_type": "code",
   "execution_count": 27,
   "id": "20c14fca",
   "metadata": {},
   "outputs": [],
   "source": [
    "bini_letters = [\n",
    "    'a', 'b', 'd', 'e','ε', 'f', 'g', 'gb', 'ɣ',\n",
    "    'h', 'i', 'k', 'kp', 'l', 'm', 'n', 'nw', 'ny',\n",
    "    'o', 'ↄ', 'p', 'r', 'rh', 'ɽ', 'ɽ̃', 's', \n",
    "    't', 'u', 'v', 'ῦ', 'w', 'x', 'y', 'z'\n",
    "]\n",
    "\n",
    "with open(\"bini.training_text\", \"w\") as f:\n",
    "    for letter in bini_letters:\n",
    "        f.write(f\"{letter}\\n\")"
   ]
  },
  {
   "cell_type": "code",
   "execution_count": null,
   "id": "12162621",
   "metadata": {},
   "outputs": [
    {
     "name": "stdout",
     "output_type": "stream",
     "text": [
      "r̢\n"
     ]
    }
   ],
   "source": []
  }
 ],
 "metadata": {
  "kernelspec": {
   "display_name": "3.13.0",
   "language": "python",
   "name": "python3"
  },
  "language_info": {
   "codemirror_mode": {
    "name": "ipython",
    "version": 3
   },
   "file_extension": ".py",
   "mimetype": "text/x-python",
   "name": "python",
   "nbconvert_exporter": "python",
   "pygments_lexer": "ipython3",
   "version": "3.13.0"
  }
 },
 "nbformat": 4,
 "nbformat_minor": 5
}
